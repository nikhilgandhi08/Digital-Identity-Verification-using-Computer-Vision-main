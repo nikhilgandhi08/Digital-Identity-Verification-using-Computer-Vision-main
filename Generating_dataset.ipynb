{
 "cells": [
  {
   "cell_type": "code",
   "execution_count": 1,
   "id": "c3d502ba-446b-49a3-9084-5e08df74f322",
   "metadata": {},
   "outputs": [],
   "source": [
    "#1. Generate dataset\n",
    "#2. Train the classifier and save it \n",
    "#3. detect the face and name it if it is already stored in our dataset"
   ]
  },
  {
   "cell_type": "code",
   "execution_count": 1,
   "id": "e35fc170-6a90-4c14-831e-967bdda8e97a",
   "metadata": {},
   "outputs": [],
   "source": [
    "import cv2 as cv"
   ]
  },
  {
   "cell_type": "code",
   "execution_count": 3,
   "id": "dbf44922-6a15-4276-a06b-515b33dae428",
   "metadata": {},
   "outputs": [
    {
     "name": "stdout",
     "output_type": "stream",
     "text": [
      "Collecting samples is completed.........\n"
     ]
    }
   ],
   "source": [
    "def generate_dataset():\n",
    "    face_classifier = cv.CascadeClassifier(\"haarcascade_frontalface_default.xml\")\n",
    "    \n",
    "    def face_cropped(img):\n",
    "        gray = cv.cvtColor(img, cv.COLOR_BGR2GRAY)\n",
    "        faces = face_classifier.detectMultiScale(gray, 1.3, 5)\n",
    "\n",
    "        if len(faces) == 0:  # Corrected condition\n",
    "            return None\n",
    "        \n",
    "        for (x, y, w, h) in faces:\n",
    "            cropped_face = img[y:y+h, x:x+w]\n",
    "        return cropped_face\n",
    "\n",
    "    # Accessing the default camera of the system   \n",
    "    cap = cv.VideoCapture(0)\n",
    "    id = 1\n",
    "    img_id = 0\n",
    "\n",
    "    while True:\n",
    "        ret, frame = cap.read()\n",
    "        if not ret:\n",
    "            print(\"Failed to grab frame\")\n",
    "            break\n",
    "\n",
    "        if face_cropped(frame) is not None:\n",
    "            img_id += 1\n",
    "            face = cv.resize(face_cropped(frame), (200, 200))\n",
    "            face = cv.cvtColor(face, cv.COLOR_BGR2GRAY)\n",
    "            file_name_path = \"data/user.\" + str(id) + \".\" + str(img_id) + \".jpg\"\n",
    "            cv.imwrite(file_name_path, face)\n",
    "            cv.putText(face, str(img_id), (50, 50), cv.FONT_HERSHEY_COMPLEX, 1, (0, 255, 0), 2)\n",
    "            \n",
    "            cv.imshow(\"Cropped face\", face)\n",
    "            if cv.waitKey(1) == 13 or img_id >= 200:  # Check for Enter key or 200 images\n",
    "                break\n",
    "    \n",
    "    cap.release()\n",
    "    cv.destroyAllWindows()\n",
    "    print(\"Collecting samples is completed.........\")\n",
    "\n",
    "generate_dataset()"
   ]
  },
  {
   "cell_type": "code",
   "execution_count": null,
   "id": "68d6d8a9-51f7-4cf2-8950-4921cb3a03a3",
   "metadata": {},
   "outputs": [],
   "source": []
  }
 ],
 "metadata": {
  "kernelspec": {
   "display_name": "Python 3",
   "language": "python",
   "name": "python3"
  },
  "language_info": {
   "codemirror_mode": {
    "name": "ipython",
    "version": 3
   },
   "file_extension": ".py",
   "mimetype": "text/x-python",
   "name": "python",
   "nbconvert_exporter": "python",
   "pygments_lexer": "ipython3",
   "version": "3.12.2"
  }
 },
 "nbformat": 4,
 "nbformat_minor": 5
}
