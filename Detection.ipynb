{
 "cells": [
  {
   "cell_type": "markdown",
   "id": "478aef5a-7003-48f1-ae7b-7d5cb07aa971",
   "metadata": {},
   "source": [
    "Detect the face and name it if it is already stored in our dataset"
   ]
  },
  {
   "cell_type": "code",
   "execution_count": 1,
   "id": "9f3128fe-8e08-459c-b736-e64b121e5f73",
   "metadata": {},
   "outputs": [],
   "source": [
    "import cv2 as cv\n",
    "import numpy as np\n",
    "from PIL import Image\n",
    "import os"
   ]
  },
  {
   "cell_type": "code",
   "execution_count": 2,
   "id": "3c22d036-fbca-49cc-9f40-43b6b63a1ed3",
   "metadata": {},
   "outputs": [],
   "source": [
    "def draw_boundary(img, classifier, scaleFactor, minNeighbors, color, text, clf):\n",
    "    gray_image = cv.cvtColor(img, cv.COLOR_BGR2GRAY)\n",
    "    features = classifier.detectMultiScale(gray_image, scaleFactor, minNeighbors)\n",
    "\n",
    "    coords = []\n",
    "\n",
    "    for (x, y, w, h) in features:\n",
    "        cv.rectangle(img, (x, y), (x + w, y + h), color, 2)\n",
    "        id, pred = clf.predict(gray_image[y:y + h, x:x + w])\n",
    "        confidence = int(100 * (1 - pred / 300))\n",
    "\n",
    "        if confidence > 75:\n",
    "            if id == 1:\n",
    "                cv.putText(img, \"Atharva\", (x, y - 5), cv.FONT_HERSHEY_SIMPLEX, 0.8, color, 1, cv.LINE_AA)\n",
    "            if id == 2:\n",
    "                cv.putText(img, \"Suyash\", (x, y - 5), cv.FONT_HERSHEY_SIMPLEX, 0.8, color, 1, cv.LINE_AA)    \n",
    "            if id == 3:\n",
    "                cv.putText(img, \"Nikhil\", (x, y - 5), cv.FONT_HERSHEY_SIMPLEX, 0.8, color, 1, cv.LINE_AA)    \n",
    "        else:\n",
    "            cv.putText(img, \"UNKNOWN\", (x, y - 5), cv.FONT_HERSHEY_SIMPLEX, 0.8, (0, 0, 255), 1, cv.LINE_AA)    \n",
    "\n",
    "        coords.append((x, y, w, h))  # Collect all coordinates\n",
    "\n",
    "    return coords  # Return all coordinates after processing all faces\n",
    "\n",
    "def recognize(img, clf, faceCascade):\n",
    "    coord = draw_boundary(img, faceCascade, 1.1, 10, (255, 255, 255), \"Face\", clf)\n",
    "    return img\n",
    "\n",
    "faceCascade = cv.CascadeClassifier(\"haarcascade_frontalface_default.xml\")\n",
    "clf = cv.face.LBPHFaceRecognizer_create()\n",
    "clf.read(\"classifier.xml\")\n",
    "\n",
    "video_capture = cv.VideoCapture(0)\n",
    "\n",
    "while True:\n",
    "    ret, img = video_capture.read()\n",
    "    img = recognize(img, clf, faceCascade)\n",
    "    cv.imshow(\"face detection\", img)\n",
    "    if cv.waitKey(1) == 13:\n",
    "        break\n",
    "        \n",
    "video_capture.release()\n",
    "cv.destroyAllWindows()"
   ]
  },
  {
   "cell_type": "code",
   "execution_count": null,
   "id": "70ed650f-0f3f-4c40-acf4-b79be78b44a1",
   "metadata": {},
   "outputs": [],
   "source": []
  }
 ],
 "metadata": {
  "kernelspec": {
   "display_name": "Python 3 (ipykernel)",
   "language": "python",
   "name": "python3"
  },
  "language_info": {
   "codemirror_mode": {
    "name": "ipython",
    "version": 3
   },
   "file_extension": ".py",
   "mimetype": "text/x-python",
   "name": "python",
   "nbconvert_exporter": "python",
   "pygments_lexer": "ipython3",
   "version": "3.11.3"
  }
 },
 "nbformat": 4,
 "nbformat_minor": 5
}
